{
 "cells": [
  {
   "cell_type": "markdown",
   "metadata": {},
   "source": [
    "### More Exercises on Essentials, Numpy, Matplotlib and SciPy"
   ]
  },
  {
   "cell_type": "markdown",
   "metadata": {},
   "source": [
    "### Exercise 1\n",
    "Generating an array of 10,000,000 random numbers, then set its negative elements to 0.  \n",
    "You are requried to provide **three** implementations: one *using loop*, two *without using loop*.   \n",
    "Please compare their performance by using the $\\%time$ magic command on each implementation."
   ]
  },
  {
   "cell_type": "markdown",
   "metadata": {},
   "source": [
    "### Exercise 2\n",
    "Generate a $4 x k$ matrix, where $k$ is an input given by user, this matrix should look like this:  \n",
    "[  \n",
    " [0, 4, 8, ..., 4(k-1)],  \n",
    " [1, 5, 9, ..., 4(k-1)+1],  \n",
    " [2, 6,10, ..., 4(k-1)+2],  \n",
    " [3, 7,11, ..., 4(k-1)+3]  \n",
    "]  \n",
    "**Note:** try to avoid using loop, and implement it in less than 4 lines of code."
   ]
  },
  {
   "cell_type": "markdown",
   "metadata": {},
   "source": [
    "### Exercise 3\n",
    "Write a function $gcd(a, b)$ to compute the *Greatest Common Divisor* for two naturals $a$ and $b$, which are provided by user input. Then write a function $lcm(a, b) by making use of your $gcd$ function to compute the *Least Common Multiple* for $a$ and $b$. Your $gcd$ function should present the result as well as the process on finding the result like below:  \n",
    "\n",
    "gcd(123456, 7890)  \n",
    "0: gcd(123456, 7890)  \n",
    "1: gcd(7890, 5106)  \n",
    "2: gcd(5106, 2784)  \n",
    "3: gcd(2784, 2322)  \n",
    "4: gcd(2322, 462)  \n",
    "5: gcd(462, 12)  \n",
    "6: gcd(12, 6)  \n",
    "Out[595]:  \n",
    "6\n"
   ]
  },
  {
   "cell_type": "markdown",
   "metadata": {},
   "source": [
    "### Exercise 4\n",
    "Write a function to remove redundant white spaces from a line of text.  \n",
    "e.g. '$This\\ is \\ \\ \\ \\ \\ \\ \\ \\ \\ \\ \\ for\\ removing \\ \\ \\ \\ \\ \\ \\ redundant\\ spaces$'   \n",
    "=>  '$This\\ is\\ for\\ removing\\ redundant\\ spaces$'   \n",
    "\n",
    "**Note**: try to avoid using loop, check out the built-in functions of Python"
   ]
  },
  {
   "cell_type": "markdown",
   "metadata": {},
   "source": [
    "### Exercise 5\n",
    "Given an array, e.g., [2, 18, 9, 22, 17, 24, 8, 12, 27],  \n",
    "generate a subarry from elements which are multiples of 3, e.g., [18, 9, 24, 12, 27]   \n",
    "\n",
    "**Note**: try to avoid using loop, check out the built-in functions of Python"
   ]
  },
  {
   "cell_type": "markdown",
   "metadata": {},
   "source": [
    "### Exercise 6\n",
    "Read a text file, get the 20 most frequent words from the text file, output the words as well as their counts.  \n",
    "**Note:** \n",
    "1. You should exclude punctuations such as \", . ! # $ ...\". In other words, only count English words\n",
    "2. You should provide a dictionary to your code which exclude counting any word in this list, e.g., a dictionray may look like this: [to, a, as, this, for, in, on, but].\n",
    "\n",
    "**Hint: ** You may need some knowledge on regular expressions and its usage in Python."
   ]
  },
  {
   "cell_type": "markdown",
   "metadata": {},
   "source": [
    "### Exercise 7\n",
    "Given a large integer N, find out all the prime numbers less than N. You may optimize your program in multiple passes, and compare their performance to evaluate your improvent.   \n",
    "\n",
    "**Note:** Suppose initially the only prime number that your program knows is 2."
   ]
  }
 ],
 "metadata": {
  "kernelspec": {
   "display_name": "Python 3",
   "language": "python",
   "name": "python3"
  },
  "language_info": {
   "codemirror_mode": {
    "name": "ipython",
    "version": 3
   },
   "file_extension": ".py",
   "mimetype": "text/x-python",
   "name": "python",
   "nbconvert_exporter": "python",
   "pygments_lexer": "ipython3",
   "version": "3.6.1"
  }
 },
 "nbformat": 4,
 "nbformat_minor": 2
}
